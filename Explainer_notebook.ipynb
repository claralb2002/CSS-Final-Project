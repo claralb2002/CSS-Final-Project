{
 "cells": [
  {
   "cell_type": "markdown",
   "id": "d9372f46",
   "metadata": {},
   "source": [
    "# Explainer notebook - Songwriter, artists and song project"
   ]
  },
  {
   "cell_type": "markdown",
   "id": "794f19b8",
   "metadata": {},
   "source": [
    "### Packages"
   ]
  },
  {
   "cell_type": "code",
   "execution_count": null,
   "id": "4c5a4fce",
   "metadata": {
    "vscode": {
     "languageId": "plaintext"
    }
   },
   "outputs": [],
   "source": []
  },
  {
   "cell_type": "markdown",
   "id": "91d8f6a8",
   "metadata": {},
   "source": [
    "------------------------------------"
   ]
  },
  {
   "cell_type": "markdown",
   "id": "b382e279",
   "metadata": {},
   "source": [
    "# Motivation"
   ]
  },
  {
   "cell_type": "markdown",
   "id": "ba4f391d",
   "metadata": {},
   "source": [
    "#### What is your dataset?"
   ]
  },
  {
   "cell_type": "markdown",
   "id": "ca5f73e0",
   "metadata": {},
   "source": [
    "#### Why did you choose this/these particular datasets?"
   ]
  },
  {
   "cell_type": "markdown",
   "id": "a52e2d18",
   "metadata": {},
   "source": [
    "#### What was your goal for the end user's experience?"
   ]
  },
  {
   "cell_type": "markdown",
   "id": "f3b15c3b",
   "metadata": {},
   "source": [
    "---------------------------------"
   ]
  },
  {
   "cell_type": "markdown",
   "id": "40409498",
   "metadata": {},
   "source": [
    "# Basic Stats"
   ]
  },
  {
   "cell_type": "markdown",
   "id": "c2da922b",
   "metadata": {},
   "source": [
    "## Constructing dataset"
   ]
  },
  {
   "cell_type": "markdown",
   "id": "bf522954",
   "metadata": {},
   "source": [
    "## Data cleaning and preprocessing"
   ]
  },
  {
   "cell_type": "markdown",
   "id": "0d12c899",
   "metadata": {},
   "source": [
    "## Dataset stats "
   ]
  },
  {
   "cell_type": "markdown",
   "id": "688f9a12",
   "metadata": {},
   "source": [
    "----------------------------"
   ]
  },
  {
   "cell_type": "markdown",
   "id": "980c0dc1",
   "metadata": {},
   "source": [
    "# Tools, theory and analysis"
   ]
  },
  {
   "cell_type": "markdown",
   "id": "0a8e20f2",
   "metadata": {},
   "source": [
    "##### Describe the process of theory to insight"
   ]
  },
  {
   "cell_type": "markdown",
   "id": "5bb82e31",
   "metadata": {},
   "source": [
    "#### How did you use the tools to understand your dataset?"
   ]
  },
  {
   "cell_type": "markdown",
   "id": "38c89456",
   "metadata": {},
   "source": [
    "## Dataset analysis"
   ]
  },
  {
   "cell_type": "markdown",
   "id": "bcec184f",
   "metadata": {},
   "source": [
    "## Networks creation and analysis"
   ]
  },
  {
   "cell_type": "markdown",
   "id": "052b0057",
   "metadata": {},
   "source": [
    "#### Describe which network science tools and data analysis strategies you've used, how those network science measures work, and why the tools you've chosen are right for the problem you're solving."
   ]
  },
  {
   "cell_type": "markdown",
   "id": "855c2c61",
   "metadata": {},
   "source": [
    "## Semantic analysis - Lyrics"
   ]
  },
  {
   "cell_type": "markdown",
   "id": "8c7088da",
   "metadata": {},
   "source": [
    "#### Talk about how you've worked with text, including regular expressions, unicode, etc."
   ]
  },
  {
   "cell_type": "markdown",
   "id": "07ed8f19",
   "metadata": {},
   "source": [
    "--------------------------------"
   ]
  },
  {
   "cell_type": "markdown",
   "id": "92b8db95",
   "metadata": {},
   "source": [
    "# Discussion"
   ]
  },
  {
   "cell_type": "markdown",
   "id": "2d5808e0",
   "metadata": {},
   "source": [
    "#### What went well?\n"
   ]
  },
  {
   "cell_type": "markdown",
   "id": "c0965e94",
   "metadata": {},
   "source": [
    "#### What is still missing? What could be improved? Why?"
   ]
  }
 ],
 "metadata": {
  "language_info": {
   "name": "python"
  }
 },
 "nbformat": 4,
 "nbformat_minor": 5
}
