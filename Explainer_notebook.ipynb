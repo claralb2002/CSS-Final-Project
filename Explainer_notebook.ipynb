{
 "cells": [
  {
   "cell_type": "markdown",
   "id": "d9372f46",
   "metadata": {},
   "source": [
    "# Explainer notebook - Songwriter, artists and song project"
   ]
  },
  {
   "cell_type": "markdown",
   "id": "91d8f6a8",
   "metadata": {},
   "source": [
    "------------------------------------"
   ]
  },
  {
   "cell_type": "markdown",
   "id": "b382e279",
   "metadata": {},
   "source": [
    "# Motivation"
   ]
  },
  {
   "cell_type": "markdown",
   "id": "ba4f391d",
   "metadata": {},
   "source": [
    "#### What is your dataset?\n",
    "Our dataset contains the top 50 songs from the top artists of the decade of 2010. Based on the top 100 list of artists from pulse music, we fetched the top 50 songs for each of the 100 artists. We have then expanded the dataset by adding select features such as all featuring artists of the songs, the\n",
    "release year, the duration of the song, popularity score from Spotify, all songwriters listed on the song and lastly each song’s lyrics. We constructed the dataset ourself by using multiple different API’s - specifically the Genius API, Spotify API and Musicbrainz API.½"
   ]
  },
  {
   "cell_type": "markdown",
   "id": "ca5f73e0",
   "metadata": {},
   "source": [
    "#### Why did you choose this/these particular datasets?\n",
    "\n",
    "We wanted to research what the connection between present day artists or songs was by looking at how the artists and songs might be connected by common songwriters or lyrics. We wanted to expand this research by both looking at what connection this might have to the popularity of the song and how the themes in the lyrics might be influenced or depend on the songwriters and how these themses vary and change depending on the release year. \n",
    "\n",
    "We decided to use a list of the top 100 artists from pulse music in order to narrow down the artists to look at. Here our thought process was that the artists with the most means and oppertunities would be the ones the most popular and the ones appearing in the top 50. These artists would have the most ressources to bring in the best songwriters which could possibly create a network behind the scenes of the music industry with these songwriters being the mastermind of the most famous artists. \n",
    "\n",
    "Through Genius we could fetch lyrics for all the songs, from musicBrainz we got all the songwriters and from spotify we could fetch the remaining attributes we have included."
   ]
  },
  {
   "cell_type": "markdown",
   "id": "a52e2d18",
   "metadata": {},
   "source": [
    "#### What was your goal for the end user's experience?\n",
    "\n",
    "We had both heard a bit here and there on the internet and through other people that a lot of popular artists do not write their own songs and that many popular songs share common songwriters. It made us curious to actually map out how music industry was structured behind the scenes of the most popular artists that we are presented with on the stage and in the radio. The main goal has been to give the end user an engaging and insightful exploration of the music landscape by uncovering the hidden connections between artists, songwriters and songs. To achieve this we have focused in on 2 different areas:\n",
    "\n",
    "1. Highlighting songwriters, how they are used by different artists and the difference here between top artists.\n",
    "2. Determining popular themes and trends in songs and whether they depend on the songwriter\n",
    "\n",
    "\n",
    " On the surface it might not be clear which artists are actual central nodes and which artist or songwriters have the most influence. Here, we try to highlight the most influential songwriters who play a significant role behind the scenes. We aimed to visualize how some artists are also interlinked through shared songwriters, enabling users to discover collaborative patterns and creative networks. We aimed to identify and map potential communities within the artist and song networks connected by songwriters and thereby offering users a broader understanding of the structure and dynamics of the music industry. By including popularity we also had a way of defining succes in these communities. The dataset and network enabled us to compare of how the different top artists utilize songwriters, possibly revealing strategic or stylistic differences.\n",
    "\n",
    "For the second goal we include the lyrics of the songs in order for us to do semantic analysis to uncover thematic patterns to add to the end user's experience. By analyzing lyrics based on their release year and popularity levels, we aimed to reveal how themes evolve and what actually resonates with the audience — such as shifting from love and heartbreak to empowerment or social commentary. This allows users to explore how artists and songwriters reflect cultural changes through language. With the lyrics we provide insights into what recurring motifs, emotional tone, and general language trends are present in the lyrics. Ultimately, the goal was to let users interact with the lyrical content on a deeper level. "
   ]
  },
  {
   "cell_type": "markdown",
   "id": "f3b15c3b",
   "metadata": {},
   "source": [
    "---------------------------------"
   ]
  },
  {
   "cell_type": "markdown",
   "id": "40409498",
   "metadata": {},
   "source": [
    "# Basic Stats"
   ]
  },
  {
   "cell_type": "markdown",
   "id": "d8f6c8d0",
   "metadata": {},
   "source": [
    "Packages"
   ]
  },
  {
   "cell_type": "code",
   "execution_count": 23,
   "id": "279cee94",
   "metadata": {},
   "outputs": [],
   "source": [
    "#GENERAL\n",
    "import pandas as pd\n",
    "import requests\n",
    "import time\n",
    "from tqdm import tqdm\n",
    "from ratelimit import limits, sleep_and_retry\n",
    "from bs4 import BeautifulSoup\n",
    "import unicodedata\n",
    "import builtins\n",
    "import ast\n",
    "\n",
    "#SPOTIFY\n",
    "import spotipy\n",
    "from spotipy.oauth2 import SpotifyClientCredentials\n",
    "from spotipy.exceptions import SpotifyException\n",
    "\n",
    "#MUSIC BRAINZ\n",
    "import musicbrainzngs\n",
    "\n",
    "#GENIUS\n",
    "import lyricsgenius\n",
    "import re"
   ]
  },
  {
   "cell_type": "markdown",
   "id": "c2da922b",
   "metadata": {},
   "source": [
    "## Constructing dataset"
   ]
  },
  {
   "cell_type": "markdown",
   "id": "6fe7bcd5",
   "metadata": {},
   "source": [
    "When we constructed the dataset we did through multiple rounds. First we fetched the top 50 songs for each of the top 100 artists but to no risk loosing data if the process for some reason was interrupted we split the 100 artists into 2 and after each round we saved it as a csv. We then for each of these csv files first fecthed all lyrics and saved those as seperate dataframes and also for the songwriters, which were also saved as seperate csv files. At the end when we had collected all the data for all songs, we combined the multiple csv files into one dataset which is saved as final_dataset.csv. "
   ]
  },
  {
   "cell_type": "markdown",
   "id": "dca7c012",
   "metadata": {},
   "source": [
    "##### Fetch top 50 songs from top 100 artists with Spotify API"
   ]
  },
  {
   "cell_type": "code",
   "execution_count": null,
   "id": "930087cc",
   "metadata": {},
   "outputs": [],
   "source": [
    "# Safe retry function\n",
    "def safe_spotify_call(call_func, *args, sleep=0.4, **kwargs):\n",
    "    time.sleep(sleep)\n",
    "    \n",
    "    try:\n",
    "        return call_func(*args, **kwargs)\n",
    "    \n",
    "    #Depending on the type of spotify API error retry\n",
    "    except SpotifyException as e:\n",
    "        # Error \"Too Many Requests\"\n",
    "        if e.http_status == 429:\n",
    "            retry_after = int(e.headers.get(\"Retry-After\", 10))\n",
    "            print(f\"Rate limit hit. Sleeping for {retry_after} seconds...\")\n",
    "            time.sleep(retry_after + 1)\n",
    "            return safe_spotify_call(call_func, *args, **kwargs)\n",
    "        else:\n",
    "            print(f\"Spotify error: {e}\")\n",
    "            return None\n",
    "\n",
    "    #network error\n",
    "    except requests.exceptions.RequestException as e:\n",
    "        print(f\" Network error: {e}\")\n",
    "        time.sleep(5)\n",
    "        return safe_spotify_call(call_func, *args, **kwargs)\n"
   ]
  },
  {
   "cell_type": "code",
   "execution_count": null,
   "id": "6cb94306",
   "metadata": {},
   "outputs": [],
   "source": [
    "def get_top_50_songs_by_artist(artist_query, market=\"US\"):\n",
    "    #SPOTIFY API credentials \n",
    "    SPOTIFY_CLIENT_ID = \"449143cf15fe468e94f3c16d7a51c17f\"\n",
    "    SPOTIFY_CLIENT_SECRET = \"60259a57c2f14c5190a68381fa4bb013\"\n",
    "    \n",
    "    #Use credentials\n",
    "    auth_manager = SpotifyClientCredentials(client_id=SPOTIFY_CLIENT_ID, client_secret=SPOTIFY_CLIENT_SECRET)\n",
    "    spotify = spotipy.Spotify(auth_manager=auth_manager)\n",
    "\n",
    "    #Get artist based on ID\n",
    "    if len(artist_query) == 22 and \" \" not in artist_query:\n",
    "        artist_id = artist_query\n",
    "        artist_info = safe_spotify_call(spotify.artist, artist_id)\n",
    "        artist_name = artist_info[\"name\"]\n",
    "\n",
    "    #Get artist based on name\n",
    "    else:\n",
    "        result = safe_spotify_call(spotify.search, q=f\"artist:{artist_query}\", type=\"artist\", limit=5)\n",
    "\n",
    "        #No artist match\n",
    "        if not result['artists']['items']:\n",
    "            print(f\"No artist found for query: {artist_query}\")\n",
    "            return pd.DataFrame()\n",
    "        \n",
    "        #Select most popular match\n",
    "        best_match = max(result['artists']['items'], key=lambda x: x['popularity'])\n",
    "        artist_id = best_match['id']\n",
    "        artist_name = best_match['name']\n",
    "\n",
    "    #Get all albums from artist\n",
    "    album_result = safe_spotify_call(spotify.artist_albums, artist_id, album_type='album,single,compilation', limit=50)\n",
    "    albums = album_result.get('items', [])\n",
    "    album_ids = list({album['id'] for album in albums})\n",
    "\n",
    "    #Step 3 :Get all tracks from artist\n",
    "    track_info = {}\n",
    "    for album_id in album_ids:\n",
    "        try:\n",
    "            album = safe_spotify_call(spotify.album, album_id)\n",
    "            if not album:\n",
    "                continue\n",
    "            release_year = album.get(\"release_date\", \"1900\").split(\"-\")[0]\n",
    "            tracks = safe_spotify_call(spotify.album_tracks, album_id)\n",
    "            if not tracks:\n",
    "                continue\n",
    "            for track in tracks['items']:\n",
    "                track_id = track['id']\n",
    "                track_name = track['name']\n",
    "                track_artists = [a['name'] for a in track['artists']]\n",
    "                artist_names = \", \".join(track_artists)\n",
    "\n",
    "                if artist_name.lower() not in [a.lower() for a in track_artists]:\n",
    "                    continue\n",
    "\n",
    "                if track_name not in track_info:\n",
    "                    track_info[track_name] = {\n",
    "                        'id': track_id,\n",
    "                        'name': track_name,\n",
    "                        'artists': artist_names,\n",
    "                        'release_year': release_year\n",
    "                    }\n",
    "        time.sleep(0.1)\n",
    "\n",
    "    #Add track popularity and duration\n",
    "    tracks = list(track_info.values())\n",
    "    for i in range(0, len(tracks), 50):\n",
    "        batch = tracks[i:i + 50]\n",
    "        ids = [t['id'] for t in batch]\n",
    "        full_tracks = safe_spotify_call(spotify.tracks, ids)\n",
    "        if full_tracks:\n",
    "            for t, ft in zip(batch, full_tracks['tracks']):\n",
    "                t['popularity'] = ft['popularity']\n",
    "                t['duration_ms'] = ft['duration_ms']\n",
    "        time.sleep(0.2) \n",
    "\n",
    "    #Return top 50 by popularity\n",
    "    df = pd.DataFrame(tracks)\n",
    "    if df.empty:\n",
    "        return df\n",
    "    df = df.sort_values(by=\"popularity\", ascending=False).head(50)\n",
    "    return df[['name', 'artists', 'popularity', 'duration_ms', 'release_year']]"
   ]
  },
  {
   "cell_type": "code",
   "execution_count": null,
   "id": "093f65fb",
   "metadata": {},
   "outputs": [],
   "source": [
    "#List of artists\n",
    "top_50_artists_2010 = [\n",
    "    \"Drake\", \"Taylor Swift\", \"Bruno Mars\", \"Rihanna\", \"4dpARuHxo51G3z768sgnrY\",\n",
    "    \"Ed Sheeran\", \"Justin Bieber\", \"Katy Perry\", \"Maroon 5\",\n",
    "    \"Post Malone\", \"Lady Gaga\", \"Ariana Grande\", \"Imagine Dragons\", \"Nicki Minaj\",\"Eminem\",\"Luke Bryan\",\"Pink\",\"One Direction\",\"Justin Timberlake\",\n",
    "    \"Kendrick Lamar\",\"Lady Antebellum\",\"Beyonce\",\"Jason Aldean\",\"Sam Smith\",\"Kesha\",\"Flordia Georgia Line\",\"Twenty one pilots\",\"Lil Wayne\",\"Chris Brown\",\n",
    "    \"Blake Shelton\",\"Travis Scott\",\"Khalid\",\"Shawn Mendes\",\"Cardi B\",\"Future\",\"Mumford & sons\",\"Selena Gomez\",\"Jay-Z\",\"Meghan Trainor\",\"J. Cole\",\"Usher\",\n",
    "    \"Coldplay\",\"The Black Eyed Peas\",\"Pitbull\",\"Flo Rida\",\"Michael Buble\",\"Zac Brown Band\",\"Jason Derulo\"\n",
    "]\n",
    "\n",
    "top_50_100_artists_2010 = [\n",
    "    \"The chainsmokers\",\"Halsey\",\"Lorde\",\"Kanye West\",\"Kenny Chesney\",\"Miley cyrus\",\"Carrie Underwood\",\"Wiz Khalifa\",\"Migos\",\"Kelly Clarkson\",\"OneRepublic\",\n",
    "    \"Macklemore & Ryan Lewis\",\"XXXtentacion\",\"Eric Church\",\"Juice Wrld\",\"fun.\",\"Billie Ellish\",\"LMFAO\",\"DJ khaled\",\"Chris stapleton\",\"Calvin harris\",\"Britney spears\",\n",
    "    \"Fetty wap\",\"Sia\",\"Pentatonix\",\"David Guetta\",\"U2\",\"Ellie Goulding\", \"The lumineers\",\"Pharrell Williams\",\"The rolling stones\",\"Train\",\"Trey songz\",\n",
    "    \"Demi lovato\",\"Sam hunt\",\"Big sean\",\"Camila cabello\",\"lil uzi vert\",\"Panic! at the disco\",\"Miranda lambert\",\"Bruce springsteen\",\"John legend\",\"B.o.B\",\n",
    "    \"21 savage\",\"Thomas Rhett\",\"Meek mill\",\"Keith Urban\",\"Bon jovi\",\"5 seconds of summer\",\"paul mccartney\"\n",
    "]\n",
    "\n",
    "# Empty dictionary to store results\n",
    "artist_song_dfs = {}\n",
    "\n",
    "# Loop over each artist and fetch top 50 songs\n",
    "for artist in top_50_artists_2010:\n",
    "    df = get_top_50_songs_by_artist(artist)\n",
    "    artist_song_dfs[artist] = df"
   ]
  },
  {
   "cell_type": "code",
   "execution_count": null,
   "id": "c22f183f",
   "metadata": {},
   "outputs": [],
   "source": [
    "# Merge all artist dataFrames\n",
    "all_songs_df = pd.concat(artist_song_dfs.values(), keys=artist_song_dfs.keys(), names=[\"Artist\"])\n",
    "\n",
    "#Reset index\n",
    "all_songs_df = all_songs_df.reset_index(level=\"Artist\").reset_index(drop=True)\n",
    "\n",
    "#Drop NaN\n",
    "all_songs_df.dropna()"
   ]
  },
  {
   "cell_type": "code",
   "execution_count": null,
   "id": "ef057f80",
   "metadata": {},
   "outputs": [],
   "source": [
    "all_songs_df.to_csv('first_50_artists.csv', index=False)"
   ]
  },
  {
   "cell_type": "markdown",
   "id": "38fc1fd6",
   "metadata": {},
   "source": [
    "#### Fetch songwriters for each song with MusicBrainz API\n",
    "\n",
    "We saved the dataframe from the previous fetching as a cvs to ensure we did not loose data. We then loaded this in to add the songwriters for each song. "
   ]
  },
  {
   "cell_type": "code",
   "execution_count": null,
   "id": "28666148",
   "metadata": {},
   "outputs": [],
   "source": [
    "# Rate limit - 1 call per second\n",
    "CALLS = 1\n",
    "PERIOD = 1 \n",
    "\n",
    "@sleep_and_retry\n",
    "@limits(calls=CALLS, period=PERIOD)\n",
    "\n",
    "#Safe function to search works\n",
    "def safe_search_works(title, artist):\n",
    "    return musicbrainzngs.search_works(query=title, artist=artist, limit=1)\n",
    "\n",
    "@sleep_and_retry\n",
    "@limits(calls=CALLS, period=PERIOD)\n",
    "\n",
    "#Safe function to get work\n",
    "def safe_get_work_by_id(work_id):\n",
    "    return musicbrainzngs.get_work_by_id(work_id, includes=[\"artist-rels\"])\n",
    "\n",
    "#Safe function to get songwriters\n",
    "def get_songwriters_from_musicbrainz(title, artist):\n",
    "    writers = []\n",
    "\n",
    "    try:\n",
    "        work_result = safe_search_works(title, artist)\n",
    "        if work_result['work-list']:\n",
    "            work_id = work_result['work-list'][0]['id']\n",
    "            work_data = safe_get_work_by_id(work_id)\n",
    "            for rel in work_data['work'].get(\"artist-relation-list\", []):\n",
    "                if rel['type'] in [\"composer\", \"lyricist\", \"writer\"]:\n",
    "                    writers.append(rel['artist']['name'])\n",
    "    except Exception as e:\n",
    "        print(f\"[MusicBrainz Writers Error] {title} - {artist}: {e}\")\n",
    "\n",
    "    return \", \".join(writers)"
   ]
  },
  {
   "cell_type": "code",
   "execution_count": null,
   "id": "8e88ca1e",
   "metadata": {},
   "outputs": [],
   "source": [
    "#Load dataset with songs from SPOTIFY fetch\n",
    "all_songs = pd.read_csv(\"first_50_artists.csv\")"
   ]
  },
  {
   "cell_type": "code",
   "execution_count": null,
   "id": "0953ed94",
   "metadata": {},
   "outputs": [],
   "source": [
    "#Break all_songs dataframe into smaller batches\n",
    "all_songs = all_songs[:1000]\n",
    "all_songs"
   ]
  },
  {
   "cell_type": "code",
   "execution_count": null,
   "id": "6a6e87f5",
   "metadata": {},
   "outputs": [],
   "source": [
    "#Fecth songwriters for all songs\n",
    "tqdm.pandas()\n",
    "all_songs[\"songwriters\"] = all_songs.progress_apply(lambda row: get_songwriters_from_musicbrainz(row[\"name\"], row[\"Artist\"]), axis=1)"
   ]
  },
  {
   "cell_type": "code",
   "execution_count": null,
   "id": "8d2b218e",
   "metadata": {},
   "outputs": [],
   "source": [
    "all_songs.to_csv('first_50_artists_with_songwriters.csv', index=False)"
   ]
  },
  {
   "cell_type": "markdown",
   "id": "00f8d49c",
   "metadata": {},
   "source": [
    "#### Fetch lyrics for each song with GENIUS API\n",
    "\n",
    "Again here, we saved the dataframe from the previous fetching as a cvs to ensure we did not loose data. We then loaded this in to add the lyrics for each song. "
   ]
  },
  {
   "cell_type": "code",
   "execution_count": null,
   "id": "50bfebef",
   "metadata": {},
   "outputs": [],
   "source": [
    "# Genius API setup\n",
    "genius = lyricsgenius.Genius(\"ZVjXsUV0Xb_wHopoibicTBRVRv8eJvdu4i7NL5mW2hcITfM6W2cvk4ha6kBktTNL\", timeout=15)\n",
    "genius.skip_non_songs = True\n",
    "genius.excluded_terms = [\"(Remix)\", \"(Live)\"]\n",
    "\n",
    "# Common language names to filter\n",
    "LANGUAGE_NAMES = {\n",
    "    \"English\", \"Español\", \"Français\", \"Deutsch\", \"Português\", \"Русский\", \"العربية\", \"日本語\", \"Türkçe\",\n",
    "    \"한국어\", \"Polski\", \"Italiano\", \"Українська\", \"Tiếng Việt\", \"Bahasa Indonesia\", \"Svenska\", \"Norsk\",\n",
    "    \"Ελληνικά\", \"עברית\", \"Magyar\", \"Čeština\", \"Slovenčina\", \"Беларуская\", \"Català\", \"Македонски\", \"Српски\",\n",
    "    \"ไทย\", \"Česky\", \"Română\", \"हिन्दी\"\n",
    "}\n",
    "\n",
    "def is_probably_language_line(line):\n",
    "    return (\n",
    "        line in LANGUAGE_NAMES or\n",
    "        (line.isalpha() and line.istitle() and len(line.split()) == 1)\n",
    "    )\n",
    "\n",
    "def is_non_latin_text(line):\n",
    "    return all(\n",
    "        not unicodedata.name(char, \"\").startswith(\"LATIN\") \n",
    "        for char in line if char.isalpha()\n",
    "    )\n",
    "\n",
    "def get_lyrics(song_title, artist_name):\n",
    "    try:\n",
    "        original_print = builtins.print\n",
    "        builtins.print = lambda *args, **kwargs: None\n",
    "\n",
    "        song = genius.search_song(song_title, artist_name)\n",
    "\n",
    "        builtins.print = original_print\n",
    "        if not song:\n",
    "            return None\n",
    "\n",
    "        page = requests.get(song.url)\n",
    "        soup = BeautifulSoup(page.text, \"html.parser\")\n",
    "\n",
    "        lyrics_divs = soup.select(\"div[data-lyrics-container='true']\")\n",
    "        lyrics_lines = []\n",
    "\n",
    "        for div in lyrics_divs:\n",
    "            for line in div.stripped_strings:\n",
    "                line = line.strip()\n",
    "\n",
    "                if (\n",
    "                    line.startswith(\"[\") and line.endswith(\"]\") or\n",
    "                    is_probably_language_line(line) or\n",
    "                    is_non_latin_text(line) and len(line) < 20 or\n",
    "                    \"translation\" in line.lower() or\n",
    "                    \"contributors\" in line.lower() or\n",
    "                    \"edit\" in line.lower() or\n",
    "                    line.lower().endswith(\"lyrics\") or\n",
    "                    \"read more\" in line.lower() or\n",
    "                    line.lower().startswith(\"“\") or\n",
    "                    \"is a track that\" in line.lower() or\n",
    "                    \"/\" in line or \"(\" in line or \")\" in line or\n",
    "                    line.lower().startswith(\"concluding \") or\n",
    "                    line.lower().startswith(\"this track\") or\n",
    "                    line.lower().startswith(\"the song\") or\n",
    "                    len(line) < 10 and not any(char.isalpha() for char in line) or\n",
    "                    line.endswith(\"…\") or \"…\" in line\n",
    "                ):\n",
    "                    continue\n",
    "\n",
    "                lyrics_lines.append(line)\n",
    "\n",
    "        return \"\\n\".join(lyrics_lines).strip() if lyrics_lines else None\n",
    "\n",
    "    except Exception:\n",
    "        return None\n"
   ]
  },
  {
   "cell_type": "code",
   "execution_count": null,
   "id": "88c54d7c",
   "metadata": {},
   "outputs": [],
   "source": [
    "#Remove anything containing feature in the title\n",
    "def remove_feat(text):\n",
    "    return re.sub(r\"[\\(\\[\\-]?\\s*(feat\\.?|ft\\.?)\\s+[^\\)\\]]+[\\)\\]]?\", \"\", text, flags=re.IGNORECASE).strip()\n",
    "\n",
    "all_songs[\"name\"] = all_songs[\"name\"].apply(remove_feat)\n"
   ]
  },
  {
   "cell_type": "code",
   "execution_count": null,
   "id": "c5f469a0",
   "metadata": {},
   "outputs": [],
   "source": [
    "songs_to_scrape = pd.read_csv(\"first_50_100_artists.csv\")"
   ]
  },
  {
   "cell_type": "code",
   "execution_count": null,
   "id": "a5744abf",
   "metadata": {},
   "outputs": [],
   "source": [
    "tqdm.pandas()\n",
    "\n",
    "def scrape_with_delay(row):\n",
    "    lyrics = get_lyrics(row[\"name\"], row[\"Artist\"])\n",
    "    time.sleep(2)  # Safe delay to prevent rate-limiting\n",
    "    return lyrics\n",
    "\n",
    "songs_to_scrape[\"lyrics\"] = songs_to_scrape.progress_apply(scrape_with_delay, axis=1)"
   ]
  },
  {
   "cell_type": "code",
   "execution_count": null,
   "id": "698c4d28",
   "metadata": {},
   "outputs": [],
   "source": [
    "songs_to_scrape.to_csv('first_50_artists_with_lyrics.csv', index=False)\n"
   ]
  },
  {
   "cell_type": "markdown",
   "id": "bf522954",
   "metadata": {},
   "source": [
    "## Data cleaning and preprocessing"
   ]
  },
  {
   "cell_type": "markdown",
   "id": "93c627b0",
   "metadata": {},
   "source": [
    "In each of the 3 fetching steps we included datacleaning as a way of ensuring the data was clean for the next step. For all 3 steps we removed any rows containing NaN as we only wanted songs which had all features. \n",
    "\n",
    "**SPOTIFY API** $\\newline$\n",
    "When fetching the top 50 songs for the top artists we experienced that some artists have shared artistic names, which meant that we were retrieving wrong information. To overcome this we looked up the specific ID for the artists causing problems and used these instead to ensure we fetched the correct artist. \n",
    "\n",
    "**GENIUS** $\\newline$\n",
    "The GENIUS API had multiple extra information besides the lyrics when we fetched it such as including languages and descriptive lines for the content. To overcome this we introduced a list of common languages where lines containing these should be removed. Similarly the descriptive lines contained specific enough words that we were able to remove them and single out just the lyrics to add to the dataset. "
   ]
  },
  {
   "cell_type": "markdown",
   "id": "f7c580c7",
   "metadata": {},
   "source": [
    "**SOURCES OF ERROR:** $\\newline$\n",
    "We discovered during our work with the dataset that some artists names where replaced by other artists such as pink vs pink floyd and aditionally that some artists even though they appeared in the dataset were skipped in the code such as The Black Eyed Peas, U2 and fun. We also realised that we had mistakenly missed two artists \"The Weeknd\" and \"Florida Georgia Line\", which was a mistake we did not catch when fetching the dataset. Lastly we also ran had changed some Adele's name to an ID code, but forgot to change it back afterwards, which also lead to her not being included. Due to time restrainst at this point, we could not fetch the data again, and therefore decided to remove the problematic artists and continue without the missing artists. Furthermore in the top 100 list there was a group based around covers for kids, which we also removed from our list of top artists. This is the explanation for the missing artists in the following data stats. "
   ]
  },
  {
   "cell_type": "markdown",
   "id": "5d723f4b",
   "metadata": {},
   "source": [
    "##### Basic stats for the dataset: \n",
    "\n",
    "**SONGS:** 3731 $\\newline$\n",
    "**SONGWRITERS:** 4498 $\\newline$\n",
    "**ARTISTS:** 91 $\\newline$\n"
   ]
  },
  {
   "cell_type": "markdown",
   "id": "0c1780c0",
   "metadata": {},
   "source": [
    "### LYRICS TOKENIZING/PREPROCESSING - CLARA!!!!!"
   ]
  },
  {
   "cell_type": "markdown",
   "id": "0d12c899",
   "metadata": {},
   "source": [
    "## Dataset stats \n",
    "\n",
    "This ended up being our final dataset. Artist is the main artist, name is the song name, artists are the featuring artists, popularity is a score from SPOTIFY and songwriters contains both componist, lyricist and writer: \n"
   ]
  },
  {
   "cell_type": "code",
   "execution_count": 25,
   "id": "c9ab4901",
   "metadata": {},
   "outputs": [
    {
     "data": {
      "text/html": [
       "<div>\n",
       "<style scoped>\n",
       "    .dataframe tbody tr th:only-of-type {\n",
       "        vertical-align: middle;\n",
       "    }\n",
       "\n",
       "    .dataframe tbody tr th {\n",
       "        vertical-align: top;\n",
       "    }\n",
       "\n",
       "    .dataframe thead th {\n",
       "        text-align: right;\n",
       "    }\n",
       "</style>\n",
       "<table border=\"1\" class=\"dataframe\">\n",
       "  <thead>\n",
       "    <tr style=\"text-align: right;\">\n",
       "      <th></th>\n",
       "      <th>Artist</th>\n",
       "      <th>name</th>\n",
       "      <th>artists</th>\n",
       "      <th>popularity</th>\n",
       "      <th>duration_ms</th>\n",
       "      <th>release_year</th>\n",
       "      <th>songwriters</th>\n",
       "      <th>lyrics</th>\n",
       "    </tr>\n",
       "  </thead>\n",
       "  <tbody>\n",
       "    <tr>\n",
       "      <th>0</th>\n",
       "      <td>the chainsmokers</td>\n",
       "      <td>Something Just Like This</td>\n",
       "      <td>['the chainsmokers', 'coldplay']</td>\n",
       "      <td>90.0</td>\n",
       "      <td>247160.0</td>\n",
       "      <td>2017</td>\n",
       "      <td>['jonny buckland', 'will champion', 'chris mar...</td>\n",
       "      <td>I've been reading books of old, the legends an...</td>\n",
       "    </tr>\n",
       "    <tr>\n",
       "      <th>1</th>\n",
       "      <td>the chainsmokers</td>\n",
       "      <td>Paris</td>\n",
       "      <td>['the chainsmokers']</td>\n",
       "      <td>82.0</td>\n",
       "      <td>221506.0</td>\n",
       "      <td>2017</td>\n",
       "      <td>['elijah the alchemist']</td>\n",
       "      <td>We were stayin' in Paris\\nTo get away from you...</td>\n",
       "    </tr>\n",
       "    <tr>\n",
       "      <th>2</th>\n",
       "      <td>the chainsmokers</td>\n",
       "      <td>This Feeling</td>\n",
       "      <td>['the chainsmokers', 'kelsea ballerini']</td>\n",
       "      <td>74.0</td>\n",
       "      <td>197946.0</td>\n",
       "      <td>2018</td>\n",
       "      <td>['travis barker', 'tom delonge', 'mark hoppus']</td>\n",
       "      <td>I'll tell you a story before it tells itself\\n...</td>\n",
       "    </tr>\n",
       "    <tr>\n",
       "      <th>3</th>\n",
       "      <td>the chainsmokers</td>\n",
       "      <td>Jungle</td>\n",
       "      <td>['alok', 'the chainsmokers', 'mae stephens']</td>\n",
       "      <td>74.0</td>\n",
       "      <td>175500.0</td>\n",
       "      <td>2023</td>\n",
       "      <td>['the motels', 'the motels']</td>\n",
       "      <td>I'm out, feeling lonely again\\nAm I too scared...</td>\n",
       "    </tr>\n",
       "    <tr>\n",
       "      <th>4</th>\n",
       "      <td>the chainsmokers</td>\n",
       "      <td>Who Do You Love</td>\n",
       "      <td>['the chainsmokers', '5 seconds of summer']</td>\n",
       "      <td>70.0</td>\n",
       "      <td>226733.0</td>\n",
       "      <td>2019</td>\n",
       "      <td>['the escape club']</td>\n",
       "      <td>Found cigarettes in your Fendi coat\\nEven thou...</td>\n",
       "    </tr>\n",
       "    <tr>\n",
       "      <th>...</th>\n",
       "      <td>...</td>\n",
       "      <td>...</td>\n",
       "      <td>...</td>\n",
       "      <td>...</td>\n",
       "      <td>...</td>\n",
       "      <td>...</td>\n",
       "      <td>...</td>\n",
       "      <td>...</td>\n",
       "    </tr>\n",
       "    <tr>\n",
       "      <th>3726</th>\n",
       "      <td>kendrick lamar</td>\n",
       "      <td>Purple Hearts</td>\n",
       "      <td>['kendrick lamar', 'summer walker', 'ghostface...</td>\n",
       "      <td>67.0</td>\n",
       "      <td>329295.0</td>\n",
       "      <td>2022</td>\n",
       "      <td>['westside boogie', 'sam dew', 'ghostface kill...</td>\n",
       "      <td>Mmm, tippy-toeing and I'm mud-walkin', hmm\\nRo...</td>\n",
       "    </tr>\n",
       "    <tr>\n",
       "      <th>3727</th>\n",
       "      <td>kendrick lamar</td>\n",
       "      <td>Swimming Pools (Drank) - Extended Version</td>\n",
       "      <td>['kendrick lamar']</td>\n",
       "      <td>67.0</td>\n",
       "      <td>313786.0</td>\n",
       "      <td>2012</td>\n",
       "      <td>['kendrick lamar', 'nikhil seetharam', 't‐minus']</td>\n",
       "      <td>Now, I done grew up round some people\\nLivin' ...</td>\n",
       "    </tr>\n",
       "    <tr>\n",
       "      <th>3728</th>\n",
       "      <td>kendrick lamar</td>\n",
       "      <td>How Much A Dollar Cost</td>\n",
       "      <td>['kendrick lamar', 'james fauntleroy', 'ronald...</td>\n",
       "      <td>66.0</td>\n",
       "      <td>261746.0</td>\n",
       "      <td>2015</td>\n",
       "      <td>['james fauntleroy', 'ronald isley', 'kendrick...</td>\n",
       "      <td>How much a dollar really cost?\\nThe question i...</td>\n",
       "    </tr>\n",
       "    <tr>\n",
       "      <th>3729</th>\n",
       "      <td>kendrick lamar</td>\n",
       "      <td>Hol' Up</td>\n",
       "      <td>['kendrick lamar']</td>\n",
       "      <td>66.0</td>\n",
       "      <td>173158.0</td>\n",
       "      <td>2011</td>\n",
       "      <td>['kendrick lamar', 'sounwave']</td>\n",
       "      <td>I wrote this record while thirty thousand feet...</td>\n",
       "    </tr>\n",
       "    <tr>\n",
       "      <th>3730</th>\n",
       "      <td>kendrick lamar</td>\n",
       "      <td>The Hillbillies</td>\n",
       "      <td>['baby keem', 'kendrick lamar']</td>\n",
       "      <td>66.0</td>\n",
       "      <td>204800.0</td>\n",
       "      <td>2023</td>\n",
       "      <td>['baby keem', 'bj burton', 'evilgiane', 'gus f...</td>\n",
       "      <td>[Intro: Kendrick Lamar,\\nBon Iver\\nBaby Keem\\n...</td>\n",
       "    </tr>\n",
       "  </tbody>\n",
       "</table>\n",
       "<p>3731 rows × 8 columns</p>\n",
       "</div>"
      ],
      "text/plain": [
       "                Artist                                       name  \\\n",
       "0     the chainsmokers                   Something Just Like This   \n",
       "1     the chainsmokers                                      Paris   \n",
       "2     the chainsmokers                               This Feeling   \n",
       "3     the chainsmokers                                     Jungle   \n",
       "4     the chainsmokers                            Who Do You Love   \n",
       "...                ...                                        ...   \n",
       "3726    kendrick lamar                              Purple Hearts   \n",
       "3727    kendrick lamar  Swimming Pools (Drank) - Extended Version   \n",
       "3728    kendrick lamar                     How Much A Dollar Cost   \n",
       "3729    kendrick lamar                                    Hol' Up   \n",
       "3730    kendrick lamar                            The Hillbillies   \n",
       "\n",
       "                                                artists  popularity  \\\n",
       "0                      ['the chainsmokers', 'coldplay']        90.0   \n",
       "1                                  ['the chainsmokers']        82.0   \n",
       "2              ['the chainsmokers', 'kelsea ballerini']        74.0   \n",
       "3          ['alok', 'the chainsmokers', 'mae stephens']        74.0   \n",
       "4           ['the chainsmokers', '5 seconds of summer']        70.0   \n",
       "...                                                 ...         ...   \n",
       "3726  ['kendrick lamar', 'summer walker', 'ghostface...        67.0   \n",
       "3727                                 ['kendrick lamar']        67.0   \n",
       "3728  ['kendrick lamar', 'james fauntleroy', 'ronald...        66.0   \n",
       "3729                                 ['kendrick lamar']        66.0   \n",
       "3730                    ['baby keem', 'kendrick lamar']        66.0   \n",
       "\n",
       "      duration_ms  release_year  \\\n",
       "0        247160.0          2017   \n",
       "1        221506.0          2017   \n",
       "2        197946.0          2018   \n",
       "3        175500.0          2023   \n",
       "4        226733.0          2019   \n",
       "...           ...           ...   \n",
       "3726     329295.0          2022   \n",
       "3727     313786.0          2012   \n",
       "3728     261746.0          2015   \n",
       "3729     173158.0          2011   \n",
       "3730     204800.0          2023   \n",
       "\n",
       "                                            songwriters  \\\n",
       "0     ['jonny buckland', 'will champion', 'chris mar...   \n",
       "1                              ['elijah the alchemist']   \n",
       "2       ['travis barker', 'tom delonge', 'mark hoppus']   \n",
       "3                          ['the motels', 'the motels']   \n",
       "4                                   ['the escape club']   \n",
       "...                                                 ...   \n",
       "3726  ['westside boogie', 'sam dew', 'ghostface kill...   \n",
       "3727  ['kendrick lamar', 'nikhil seetharam', 't‐minus']   \n",
       "3728  ['james fauntleroy', 'ronald isley', 'kendrick...   \n",
       "3729                     ['kendrick lamar', 'sounwave']   \n",
       "3730  ['baby keem', 'bj burton', 'evilgiane', 'gus f...   \n",
       "\n",
       "                                                 lyrics  \n",
       "0     I've been reading books of old, the legends an...  \n",
       "1     We were stayin' in Paris\\nTo get away from you...  \n",
       "2     I'll tell you a story before it tells itself\\n...  \n",
       "3     I'm out, feeling lonely again\\nAm I too scared...  \n",
       "4     Found cigarettes in your Fendi coat\\nEven thou...  \n",
       "...                                                 ...  \n",
       "3726  Mmm, tippy-toeing and I'm mud-walkin', hmm\\nRo...  \n",
       "3727  Now, I done grew up round some people\\nLivin' ...  \n",
       "3728  How much a dollar really cost?\\nThe question i...  \n",
       "3729  I wrote this record while thirty thousand feet...  \n",
       "3730  [Intro: Kendrick Lamar,\\nBon Iver\\nBaby Keem\\n...  \n",
       "\n",
       "[3731 rows x 8 columns]"
      ]
     },
     "execution_count": 25,
     "metadata": {},
     "output_type": "execute_result"
    }
   ],
   "source": [
    "df = pd.read_csv(\"final_dataset.csv\")\n",
    "df"
   ]
  },
  {
   "cell_type": "code",
   "execution_count": 26,
   "id": "fb6986f4",
   "metadata": {},
   "outputs": [],
   "source": [
    "def safe_parse(value):\n",
    "    try:\n",
    "        parsed = ast.literal_eval(value)\n",
    "        return parsed if isinstance(parsed, list) else [parsed]\n",
    "    except:\n",
    "        return [value]\n",
    "\n",
    "\n",
    "df['songwriters'] = df['songwriters'].apply(safe_parse)\n",
    "df = df.explode('songwriters').reset_index(drop=True)"
   ]
  },
  {
   "cell_type": "code",
   "execution_count": 27,
   "id": "a174c901",
   "metadata": {},
   "outputs": [
    {
     "data": {
      "text/plain": [
       "Artist\n",
       "coldplay              284\n",
       "travis scott          282\n",
       "meghan trainor        263\n",
       "beyonce               261\n",
       "kendrick lamar        260\n",
       "                     ... \n",
       "b.o.b                  70\n",
       "the rolling stones     58\n",
       "bruce springsteen      51\n",
       "paul mccartney         28\n",
       "chris stapleton        20\n",
       "Name: count, Length: 91, dtype: int64"
      ]
     },
     "execution_count": 27,
     "metadata": {},
     "output_type": "execute_result"
    }
   ],
   "source": [
    "df[\"Artist\"].value_counts()"
   ]
  },
  {
   "cell_type": "code",
   "execution_count": 28,
   "id": "846a7e41",
   "metadata": {},
   "outputs": [
    {
     "data": {
      "text/plain": [
       "songwriters\n",
       "max martin         106\n",
       "meghan trainor      72\n",
       "benny blanco        70\n",
       "jay‐z               68\n",
       "louis bell          66\n",
       "                  ... \n",
       "siobhán donaghy      1\n",
       "felix howard         1\n",
       "john lipsey          1\n",
       "cameron mcvey        1\n",
       "rob moose            1\n",
       "Name: count, Length: 4564, dtype: int64"
      ]
     },
     "execution_count": 28,
     "metadata": {},
     "output_type": "execute_result"
    }
   ],
   "source": [
    "df[\"songwriters\"].value_counts()"
   ]
  },
  {
   "cell_type": "markdown",
   "id": "688f9a12",
   "metadata": {},
   "source": [
    "----------------------------"
   ]
  },
  {
   "cell_type": "markdown",
   "id": "980c0dc1",
   "metadata": {},
   "source": [
    "# Tools, theory and analysis"
   ]
  },
  {
   "cell_type": "markdown",
   "id": "0a8e20f2",
   "metadata": {},
   "source": [
    "##### Describe the process of theory to insight"
   ]
  },
  {
   "cell_type": "markdown",
   "id": "5bb82e31",
   "metadata": {},
   "source": [
    "#### How did you use the tools to understand your dataset?"
   ]
  },
  {
   "cell_type": "markdown",
   "id": "38c89456",
   "metadata": {},
   "source": [
    "## Dataset analysis"
   ]
  },
  {
   "cell_type": "markdown",
   "id": "bcec184f",
   "metadata": {},
   "source": [
    "## Networks creation and analysis"
   ]
  },
  {
   "cell_type": "markdown",
   "id": "052b0057",
   "metadata": {},
   "source": [
    "#### Describe which network science tools and data analysis strategies you've used, how those network science measures work, and why the tools you've chosen are right for the problem you're solving."
   ]
  },
  {
   "cell_type": "markdown",
   "id": "855c2c61",
   "metadata": {},
   "source": [
    "## Semantic analysis - Lyrics"
   ]
  },
  {
   "cell_type": "markdown",
   "id": "8c7088da",
   "metadata": {},
   "source": [
    "#### Talk about how you've worked with text, including regular expressions, unicode, etc."
   ]
  },
  {
   "cell_type": "markdown",
   "id": "07ed8f19",
   "metadata": {},
   "source": [
    "--------------------------------"
   ]
  },
  {
   "cell_type": "markdown",
   "id": "92b8db95",
   "metadata": {},
   "source": [
    "# Discussion"
   ]
  },
  {
   "cell_type": "markdown",
   "id": "2d5808e0",
   "metadata": {},
   "source": [
    "#### What went well?\n"
   ]
  },
  {
   "cell_type": "markdown",
   "id": "c0965e94",
   "metadata": {},
   "source": [
    "#### What is still missing? What could be improved? Why?"
   ]
  }
 ],
 "metadata": {
  "kernelspec": {
   "display_name": "base",
   "language": "python",
   "name": "python3"
  },
  "language_info": {
   "codemirror_mode": {
    "name": "ipython",
    "version": 3
   },
   "file_extension": ".py",
   "mimetype": "text/x-python",
   "name": "python",
   "nbconvert_exporter": "python",
   "pygments_lexer": "ipython3",
   "version": "3.12.8"
  }
 },
 "nbformat": 4,
 "nbformat_minor": 5
}
